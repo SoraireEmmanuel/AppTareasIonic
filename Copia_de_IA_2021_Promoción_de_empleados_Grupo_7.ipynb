{
  "nbformat": 4,
  "nbformat_minor": 0,
  "metadata": {
    "colab": {
      "name": "Copia de IA 2021 - Promoción de empleados- Grupo 7",
      "provenance": [],
      "collapsed_sections": [],
      "include_colab_link": true
    },
    "kernelspec": {
      "display_name": "Python 3",
      "name": "python3"
    },
    "language_info": {
      "name": "python"
    }
  },
  "cells": [
    {
      "cell_type": "markdown",
      "metadata": {
        "id": "view-in-github",
        "colab_type": "text"
      },
      "source": [
        "<a href=\"https://colab.research.google.com/github/SoraireEmmanuel/AppTareasIonic/blob/master/Copia_de_IA_2021_Promoci%C3%B3n_de_empleados_Grupo_7.ipynb\" target=\"_parent\"><img src=\"https://colab.research.google.com/assets/colab-badge.svg\" alt=\"Open In Colab\"/></a>"
      ]
    },
    {
      "cell_type": "markdown",
      "metadata": {
        "id": "ZYrJyCs4hMKh"
      },
      "source": [
        "## <center>Identificación de empleados potenciales a promocionar</center>\n",
        "\n",
        "&nbsp;\n",
        "\n",
        "El cliente es una multinacional y tiene varias áreas dentro de la organización. Uno de los problemas que enfrentan es identificar a las personas adecuadas para la promoción y prepararlas a tiempo. Actualmente, el proceso que están siguiendo es:\n",
        "\n",
        "*\tPrimero identifican un conjunto de empleados con base en recomendaciones/desempeño pasado.\n",
        "* Los empleados seleccionados pasan por el programa de capacitación y evaluación por separado para cada área. Estos programas se basan en la habilidad requerida de cada área.\n",
        "* Al final del programa, en base a varios factores, como el desempeño en la capacitación, un empleado obtiene la promoción.\n",
        "\n",
        "Se desea automatizar el proceso de preselección basándose en las características comunes de los empleados que promocionan dentro de la empresa. Así de esta manera seleccionar un grupo de candidatos adecuados para la promoción y en base al resultado realizar la selección definitiva.\n",
        "\n"
      ]
    },
    {
      "cell_type": "markdown",
      "metadata": {
        "id": "_TlUgKMHiRJG"
      },
      "source": [
        "## Importamos todas las librerias requeridas\n",
        "\n",
        "* Importamos Numpy, Pandas, Matplot, and Seaborn para el analisís de la información y su visualización\n",
        "* Importamos ipywidgets, Sweetviz, ppscore para el analisis exploratoria de los datos.\n",
        "* Importamos Sklearn, Imblearn para el modelo de Machine Learning"
      ]
    },
    {
      "cell_type": "code",
      "metadata": {
        "id": "3shqyonXi8oB"
      },
      "source": [
        "# Importamos todas las librerias que necesitamos\n",
        "\n",
        "# Para operaciones matematicas\n",
        "import numpy as np\n",
        "# Para operaciones con dataframe\n",
        "import pandas as pd\n",
        "\n",
        "# Para visualizaciones\n",
        "import seaborn as sns\n",
        "import matplotlib.pyplot as plt\n",
        "import matplotlib as mpl\n",
        "\n",
        "# Para machine learning\n",
        "import sklearn\n",
        "import imblearn\n",
        "\n",
        "# Establecemos el tamaño de las figuras\n",
        "plt.rcParams['figure.figsize'] = (16, 5)\n",
        "# Establecemos el estilo de los graficos\n",
        "plt.style.use('fivethirtyeight')"
      ],
      "execution_count": null,
      "outputs": []
    },
    {
      "cell_type": "markdown",
      "metadata": {
        "id": "azJxdoevkmlq"
      },
      "source": [
        "## Leemos el Dataset\n",
        "\n",
        "* Tenemos dos datasets: Train and Test \n",
        "* Train Datasets lo usamos para entrenar los modelos de Machine learning\n",
        "* Despues de aprender los patrones del dataset de Test, tenemos que predecir la variable objetivo."
      ]
    },
    {
      "cell_type": "code",
      "metadata": {
        "colab": {
          "resources": {
            "http://localhost:8080/nbextensions/google.colab/files.js": {
              "data": "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",
              "ok": true,
              "headers": [
                [
                  "content-type",
                  "application/javascript"
                ]
              ],
              "status": 200,
              "status_text": ""
            }
          },
          "base_uri": "https://localhost:8080/",
          "height": 55
        },
        "id": "LBKMLLIrlYSC",
        "outputId": "db7523e5-5ea6-4ec2-a403-741bd427f86d"
      },
      "source": [
        "#Cargamos los data set desde un archivo local\n",
        "from google.colab import files # Cargamos la libreria para importar datos a Google Colab \n",
        "uploaded = files.upload() # Guardamos los datos cargados\n"
      ],
      "execution_count": null,
      "outputs": [
        {
          "output_type": "display_data",
          "data": {
            "text/html": [
              "\n",
              "     <input type=\"file\" id=\"files-cf341095-2c32-4cbb-a27f-caedd0529fa9\" name=\"files[]\" multiple disabled\n",
              "        style=\"border:none\" />\n",
              "     <output id=\"result-cf341095-2c32-4cbb-a27f-caedd0529fa9\">\n",
              "      Upload widget is only available when the cell has been executed in the\n",
              "      current browser session. Please rerun this cell to enable.\n",
              "      </output>\n",
              "      <script src=\"/nbextensions/google.colab/files.js\"></script> "
            ],
            "text/plain": [
              "<IPython.core.display.HTML object>"
            ]
          },
          "metadata": {
            "tags": []
          }
        }
      ]
    },
    {
      "cell_type": "code",
      "metadata": {
        "id": "q-ae0LKjmgJS"
      },
      "source": [
        "# Leemos los dataset\n",
        "\n",
        "train = pd.read_csv('train.csv')\n",
        "test = pd.read_csv('test.csv')"
      ],
      "execution_count": null,
      "outputs": []
    },
    {
      "cell_type": "markdown",
      "metadata": {
        "id": "m-aKDpkJqlkn"
      },
      "source": [
        "## Revisamos los datos\n",
        "\n",
        "* Revisamos el tamaño de los datasets\n",
        "* Revisamos los valores dentro de los datasets\n",
        "* Armamos una tabla con la descripción de los valores de los datasets\n",
        "* Revisamos la cantidad de empleados por departamento\n",
        "* Revisamos la cantidad de empleados por región"
      ]
    },
    {
      "cell_type": "code",
      "metadata": {
        "id": "XKrtzSamrL4V"
      },
      "source": [
        "# Vemos el tamaño de cada archivo\n",
        "print('-----------Datos de Training--------------')\n",
        "print ('Cantidad de Filas de Training: ', train.shape[0]) \n",
        "\n",
        "print ('Cantidad de columnas de Training: ', train.shape[1]) \n",
        "print(' ')\n",
        "print('------------Datos de Test-----------------')\n",
        "print ('Cantidad de Filas de Test: ', test.shape[0]) \n",
        "\n",
        "print ('Cantidad de columnas de Test: ', test.shape[1]) "
      ],
      "execution_count": null,
      "outputs": []
    },
    {
      "cell_type": "code",
      "metadata": {
        "id": "9b5Eh8cmrXDa"
      },
      "source": [
        "# Columnas en Training\n",
        "train.columns"
      ],
      "execution_count": null,
      "outputs": []
    },
    {
      "cell_type": "code",
      "metadata": {
        "id": "GurMbDaerbGS"
      },
      "source": [
        "# Columnas in Testing\n",
        "test.columns"
      ],
      "execution_count": null,
      "outputs": []
    },
    {
      "cell_type": "code",
      "metadata": {
        "id": "ue4etfjgrdLI"
      },
      "source": [
        "# Revisamos los primeros valores de Training\n",
        "train.head()"
      ],
      "execution_count": null,
      "outputs": []
    },
    {
      "cell_type": "code",
      "metadata": {
        "id": "TpAyzv08rduy"
      },
      "source": [
        "# Revisamos los ultimos valores de Training\n",
        "train.tail()\n"
      ],
      "execution_count": null,
      "outputs": []
    },
    {
      "cell_type": "code",
      "metadata": {
        "id": "bq9qAVINrh71"
      },
      "source": [
        "# Revisamos los primeros valores de Testing\n",
        "test.head()"
      ],
      "execution_count": null,
      "outputs": []
    },
    {
      "cell_type": "code",
      "metadata": {
        "id": "sDkSxfEJrj7n"
      },
      "source": [
        "# Revisamos los ultimos valores de Testing\n",
        "test.tail()"
      ],
      "execution_count": null,
      "outputs": []
    },
    {
      "cell_type": "markdown",
      "metadata": {
        "id": "GS-u9PCqsZNi"
      },
      "source": [
        "### <center>Descripción de los datos </center>\n",
        "\n",
        "<table>\n",
        "    <tr>\n",
        "        <td><b>Variable</b></td>\n",
        "        <td><b>Definición</b></td>\n",
        "    </tr>\n",
        "    <tr>\n",
        "        <td>employee_id</td>\n",
        "        <td>ID unico del empleado<td>\n",
        "    </tr>\n",
        "    <tr>\n",
        "        <td>department</td>\n",
        "        <td>Departamento del empleado</td>\n",
        "    </tr>\n",
        "    <tr>\n",
        "        <td>region</td>\n",
        "        <td>Región del empleado</td>\n",
        "    </tr>\n",
        "    <tr>\n",
        "        <td>education</td>\n",
        "        <td>Nivel de educación</td>\n",
        "    </tr>\n",
        "    <tr>\n",
        "        <td>gender</td>\n",
        "        <td>Genero del empleado</td>\n",
        "    </tr>\n",
        "    <tr>\n",
        "        <td>recruitment_channel</td>\n",
        "        <td>Canal de reclutamiento del empleado</td>\n",
        "    </tr>\n",
        "    <tr>\n",
        "        <td>no_of_trainings</td>\n",
        "        <td>Numeros de trinings completados en el año anterior sobre habilidades blandas, técnicas, etc.</td>\n",
        "    </tr>\n",
        "    <tr>\n",
        "        <td>age</td>\n",
        "        <td>Edad del empleado</td>\n",
        "    </tr>\n",
        "    <tr>\n",
        "        <td>previous_year_rating</td>\n",
        "        <td>Calificación del empleado del año anterior</td>\n",
        "    </tr>\n",
        "    <tr>\n",
        "        <td>length_of_service</td>\n",
        "        <td>Antiguedad del empleado</td>\n",
        "    </tr>\n",
        "    <tr>\n",
        "        <td>KPIs_met >80%</td>\n",
        "        <td>Si el porcentaje de KPI (indicadores clave de rendimiento)> 80%, entonces 1 si no 0 </td>\n",
        "    </tr>\n",
        "    <tr>\n",
        "        <td>awards_won?</td>\n",
        "        <td>Si tuvo algún premio el año anterior 1, si no 0</td>\n",
        "    </tr>\n",
        "    <tr>\n",
        "        <td>avg_training_score</td>\n",
        "        <td>Puntuación promedio en las evaluaciones de formación actuales</td>\n",
        "    </tr>\n",
        "    <tr>\n",
        "        <td>is_promoted\t(Target)</td>\n",
        "        <td>Recomendado para ser promovido</td>\n",
        "    </tr>\n",
        "</table>"
      ]
    },
    {
      "cell_type": "code",
      "metadata": {
        "id": "C7xFgpa3uS7w"
      },
      "source": [
        "# Cantidad de empleados por departamentos\n",
        "\n",
        "train['department'].value_counts()"
      ],
      "execution_count": null,
      "outputs": []
    },
    {
      "cell_type": "code",
      "metadata": {
        "id": "DcW_avyjuYKe"
      },
      "source": [
        "# Cantidad de empleados por región \n",
        "\n",
        "train['region'].value_counts()"
      ],
      "execution_count": null,
      "outputs": []
    },
    {
      "cell_type": "markdown",
      "metadata": {
        "id": "fznXbMlGvbod"
      },
      "source": [
        "## Estadisticas descriptivas\n",
        "\n",
        "Para comprender los datos y obtener información necesitamos revisar las estadisticas de los datos.\n",
        "* Primero vamos a la Estadística Descriptiva para las Columnas Numéricas\n",
        "* Para las columnas numéricas, verificamos estadísticas como Máx, Mín, Promedio, recuento, desviación estándar, porcentaje 25, porcentaje 50 y porcentaje 75.\n",
        "* Luego, verificaremos los estadísticos descriptivos para columnas categóricas.\n",
        "* Para columnas categóricas, verificamos estadísticas como recuento, frecuencia, elementos principales y únicos. "
      ]
    },
    {
      "cell_type": "code",
      "metadata": {
        "id": "X8dkJwmxv6WW"
      },
      "source": [
        "# Revisamos las estadisticas de las columnas numericas\n",
        "train.describe().style.background_gradient(cmap = 'Wistia')\n",
        "#Otros colores en: https://matplotlib.org/stable/tutorials/colors/colormaps.html"
      ],
      "execution_count": null,
      "outputs": []
    },
    {
      "cell_type": "code",
      "metadata": {
        "id": "p7NZrgme6UPA"
      },
      "source": [
        "# Revisamos las estadisticas descriptivas de las columnas categóricas\n",
        "train.describe(include = 'object')"
      ],
      "execution_count": null,
      "outputs": []
    },
    {
      "cell_type": "code",
      "metadata": {
        "id": "bra9xTqf69Aj"
      },
      "source": [
        "# Revisamos el balance de nuestra columna objetivo (is_promoted)\n",
        "\n",
        "plt.rcParams['figure.figsize'] = (15, 5)\n",
        "plt.style.use('fivethirtyeight')\n",
        "\n",
        "plt.subplot(1, 2, 1)\n",
        "\n",
        "\n",
        "sns.countplot(train['is_promoted'],palette=['#432371',\"#FAAE7B\"])\n",
        "\n",
        "\n",
        "plt.xlabel('¿Promocionado o No?', fontsize = 10)\n",
        "\n",
        "\n",
        "\n",
        "\n",
        "plt.subplot(1, 2, 2)\n",
        "train['is_promoted'].value_counts().plot(kind = 'pie', colors = ['tab:cyan', 'tab:red', 'tab:orange'] ,explode = [0, 0.1], autopct = '%.2f%%', startangle = 90,\n",
        "                                       labels = ['No','Promocionado'] , shadow = True, pctdistance = 0.5)\n",
        "plt.axis('off')\n",
        "\n",
        "plt.suptitle('Balance de la columna objetivo', fontsize = 15)\n",
        "plt.show()"
      ],
      "execution_count": null,
      "outputs": []
    },
    {
      "cell_type": "markdown",
      "metadata": {
        "id": "dog5LP78Q96u"
      },
      "source": [
        "Observamos que está desbalanceada la información sobre los empleados promociados, para mejorar la precisión de nuestra predicción vamos a tener que aplicar alguna técnica para mejorar estos datos."
      ]
    },
    {
      "cell_type": "markdown",
      "metadata": {
        "id": "QS7N7dqfETug"
      },
      "source": [
        "## Verificamos y coregimos si existen valores vacios\n",
        "\n",
        "Asegurarnos de no tener valores en blanco es muy imporante para el modelo de machine lerning. \n",
        "* Esto se podria dar porque no se completaron correctamente los formularios o porque no era necesaria la información en ciertos casos.\n",
        "\n",
        "* Existen distintos métodos para tratarlo, en algunos se podria eliminar esos registros y en otros se debe usar algun método para completarlos.\n",
        "\n"
      ]
    },
    {
      "cell_type": "code",
      "metadata": {
        "id": "o-n6ocLoEbf2"
      },
      "source": [
        "# Comprobación de valores en blancos en los dataset\n",
        "\n",
        "# Calculamos el total de valores en blanco en el Training dataset\n",
        "train_total = train.isnull().sum()\n",
        "\n",
        "# Calculamos el porcentaje de esos valores en blanco\n",
        "train_percent = ((train.isnull().sum()/train.shape[0])*100).round(2)\n",
        "\n",
        "# Calculamos el total de valores en blanco en el Testing dataset\n",
        "test_total = test.isnull().sum()\n",
        "\n",
        "# Calculamos el porcentaje de esos valores en blanco\n",
        "test_percent = ((test.isnull().sum()/test.shape[0])*100).round(2)\n",
        "\n",
        "# Armamos una tabla para mostrar los resultados obtenidos l\n",
        "train_missing_data = pd.concat([train_total, train_percent, test_total, test_percent],\n",
        "                                axis=1, \n",
        "                                keys=['Train_Total', 'Train_Percent %','Test_Total', 'Test_Percent %'],\n",
        "                                sort = True)\n",
        "\n",
        "# Mostramos la tabla\n",
        "train_missing_data.style.bar(color = ['orange'])"
      ],
      "execution_count": null,
      "outputs": []
    },
    {
      "cell_type": "code",
      "metadata": {
        "id": "C-Xs4mgXGCz2"
      },
      "source": [
        "# Observamos que el dataset de Training tiene valores en blanco y los completamos\n",
        "\n",
        "train['education'] = train['education'].fillna(train['education'].mode()[0])\n",
        "train['previous_year_rating'] = train['previous_year_rating'].fillna(train['previous_year_rating'].mode()[0])\n",
        "\n",
        "# Volvemos a revisar si quedan valores en blanco en el Training dataset\n",
        "print(\"Numeros de valores faltantes en Training dataset:\", train.isnull().sum().sum())"
      ],
      "execution_count": null,
      "outputs": []
    },
    {
      "cell_type": "code",
      "metadata": {
        "id": "wTlEmmF2SJHh"
      },
      "source": [
        "# Observamos que el dataset de Testing tiene valores en blanco y los completamos\n",
        "\n",
        "test['education'] = test['education'].fillna(test['education'].mode()[0])\n",
        "test['previous_year_rating'] = test['previous_year_rating'].fillna(test['previous_year_rating'].mode()[0])\n",
        "\n",
        "# Volvemos a revisar si quedan valores en blanco en el Testing dataset\n",
        "print(\"Numeros de valores faltantes en Testing dataset:\", test.isnull().sum().sum())"
      ],
      "execution_count": null,
      "outputs": []
    },
    {
      "cell_type": "markdown",
      "metadata": {
        "id": "Kf_nrFQkti4c"
      },
      "source": [
        "## Deteción de valores atípicos\n",
        "\n",
        "La presencia de valores atípicos en un conjunto de datos de clasificación o regresión puede resultar en un ajuste deficiente y un rendimiento de modelado predictivo más bajo."
      ]
    },
    {
      "cell_type": "code",
      "metadata": {
        "id": "OZoa7YPRtn3U"
      },
      "source": [
        "# Primero analizamos las columnas numericas\n",
        "train.select_dtypes('number').head()"
      ],
      "execution_count": null,
      "outputs": []
    },
    {
      "cell_type": "code",
      "metadata": {
        "id": "GNYDpARYtqzY"
      },
      "source": [
        "# Realizamos un grafico para ver las columnas donde podrian haber valores atipicos\n",
        "plt.rcParams['figure.figsize'] = (15, 5)\n",
        "plt.style.use('fivethirtyeight')\n",
        "\n",
        "# Grafico para average training score\n",
        "plt.subplot(1, 2, 1)\n",
        "sns.boxplot(train['avg_training_score'], color = 'cyan')\n",
        "plt.xlabel('Promedio de puntuación de evaluaciones', fontsize = 12)\n",
        "plt.ylabel('Range', fontsize = 12)\n",
        "\n",
        "# Grafico para length of service\n",
        "plt.subplot(1, 2, 2)\n",
        "sns.boxplot(train['length_of_service'], color = 'orange')\n",
        "plt.xlabel('Antiguedad', fontsize = 12)\n",
        "plt.ylabel('Range', fontsize = 12)\n",
        "\n",
        "plt.suptitle('Box Plot', fontsize = 20)\n",
        "plt.show()"
      ],
      "execution_count": null,
      "outputs": []
    },
    {
      "cell_type": "code",
      "metadata": {
        "id": "TFdUUbwEt0D9"
      },
      "source": [
        "# Observamos que hay valores atipicos en la antiguedad y los eliminamos\n",
        "\n",
        "#Despues de realizar varias pruebas decidimos no borrar esos empleados\n",
        "#train = train[train['length_of_service'] < 13]"
      ],
      "execution_count": null,
      "outputs": []
    },
    {
      "cell_type": "code",
      "metadata": {
        "id": "75kZTNJWt4QP"
      },
      "source": [
        "train.shape\n",
        "train['length_of_service'].value_counts()\n"
      ],
      "execution_count": null,
      "outputs": []
    },
    {
      "cell_type": "markdown",
      "metadata": {
        "id": "oOLQtVAjc4LY"
      },
      "source": [
        "## Análisis univariado\n",
        "\n",
        "El análisis univariado es quizás la forma más simple de análisis estadístico. Como otras formas de estadística, puede ser inferencial o descriptivo. El hecho clave es que solo interviene una variable. El análisis univariado puede producir resultados engañosos en los casos en los que el análisis multivariado es más apropiado.\n",
        "\n",
        "* Este es un paso esencial para comprender las variables presentes en el conjunto de datos una por una.\n"
      ]
    },
    {
      "cell_type": "code",
      "metadata": {
        "id": "Zb5G-cGtdI6Y"
      },
      "source": [
        "# Pie chart\n",
        "plt.rcParams['figure.figsize'] = (16,5)\n",
        "plt.style.use('fivethirtyeight')\n",
        "\n",
        "# Graficamos el Indicador clave de rendimiento de los empleados en el año anterior\n",
        "plt.subplot(1, 3, 1)\n",
        "labels = ['0','1']\n",
        "sizes = train['KPIs_met >80%'].value_counts()\n",
        "colors = plt.cm.Wistia(np.linspace(0, 1, 5))\n",
        "explode = [0, 0]\n",
        "\n",
        "plt.pie(sizes, labels = labels, colors = colors, explode = explode, shadow = True, startangle = 90)\n",
        "plt.title('KPIs > 80%', fontsize = 20)\n",
        "\n",
        "# Graficamos la calificación de los empleados en el año anterior\n",
        "plt.subplot(1, 3, 2)\n",
        "labels = ['1', '2', '3', '4', '5']\n",
        "sizes = train['previous_year_rating'].value_counts()\n",
        "colors = plt.cm.Wistia(np.linspace(0, 1, 5))\n",
        "explode = [0, 0, 0, 0, 0.1]\n",
        "\n",
        "plt.pie(sizes, labels = labels, colors = colors, explode = explode, shadow = True, startangle = 90)\n",
        "plt.title('Calificación del año anterior', fontsize = 20)\n",
        "\n",
        "# Grafico del empleados premiados en el último año\n",
        "plt.subplot(1, 3, 3)\n",
        "labels = ['0', '1']\n",
        "sizes = train['awards_won?'].value_counts()\n",
        "colors = plt.cm.Wistia(np.linspace(0, 1, 5))\n",
        "explode = [0,0.1]\n",
        "\n",
        "plt.pie(sizes, labels = labels, colors = colors, explode = explode, shadow = True, startangle = 90)\n",
        "plt.title('¿Premio ganado?', fontsize = 20)\n",
        "\n",
        "\n",
        "plt.legend()\n",
        "plt.show()"
      ],
      "execution_count": null,
      "outputs": []
    },
    {
      "cell_type": "markdown",
      "metadata": {
        "id": "KpPJNmKBeSRH"
      },
      "source": [
        "El patron mas grande es que solo algunos de los empleados está arriba del 80% de los KPI.\n",
        "La mayoria de los empleados tiene baja calificación en el año anterior.\n",
        "Muy pocos empleados probablemente el 2% de ellos podria obtener un premio por su trabajo."
      ]
    },
    {
      "cell_type": "code",
      "metadata": {
        "id": "F6PHZgqmdS-l"
      },
      "source": [
        "# Distribución de los cursos tomados por los empleados\n",
        "\n",
        "plt.rcParams['figure.figsize'] = (17, 4)\n",
        "sns.countplot(train['no_of_trainings'], palette = 'spring')\n",
        "plt.xlabel(' ', fontsize = 14)\n",
        "plt.title('Distribución de los cursos tomados por los empleados')\n",
        "plt.show()"
      ],
      "execution_count": null,
      "outputs": []
    },
    {
      "cell_type": "markdown",
      "metadata": {
        "id": "HhQMFCn-e2Zi"
      },
      "source": [
        "Con este grafico vemos los trainings realizados por los empleados, se ve claramente que el 80% realizó un solo curso y es despreciable el numero de empleados que tomaron más de tres."
      ]
    },
    {
      "cell_type": "code",
      "metadata": {
        "id": "PHyy9wDAdW2W"
      },
      "source": [
        "# Distribución de la edad de los empleados\n",
        "\n",
        "plt.rcParams['figure.figsize'] = (8, 4)\n",
        "plt.hist(train['age'], color = 'grey')\n",
        "plt.title('Distribución de la edad de los empleados', fontsize = 15)\n",
        "plt.xlabel('Edad')\n",
        "plt.grid()\n",
        "plt.show()"
      ],
      "execution_count": null,
      "outputs": []
    },
    {
      "cell_type": "code",
      "metadata": {
        "id": "gMDMidc3dZ7A"
      },
      "source": [
        "# Distribución de los empleados por departamentos\n",
        "\n",
        "plt.rcParams['figure.figsize'] = (12, 6)\n",
        "sns.countplot(y = train['department'], palette = 'cividis', orient = 'v')\n",
        "plt.xlabel('')\n",
        "plt.ylabel('Nombre del departamento')\n",
        "plt.title('Distribución de los empleados por departamentos', fontsize = 15)\n",
        "plt.grid()\n",
        "\n",
        "plt.show()"
      ],
      "execution_count": null,
      "outputs": []
    },
    {
      "cell_type": "code",
      "metadata": {
        "id": "n7aInCUBddeJ"
      },
      "source": [
        "# Distribución de los empleados por regiones\n",
        "\n",
        "plt.rcParams['figure.figsize'] = (12,15)\n",
        "plt.style.use('fivethirtyeight')\n",
        "sns.countplot(y = train['region'], palette = 'inferno', orient = 'v')\n",
        "plt.xlabel('')\n",
        "plt.ylabel('Region')\n",
        "plt.title('Distribución de los empleados por regiones', fontsize = 15)\n",
        "plt.xticks(rotation = 90)\n",
        "plt.grid()\n",
        "plt.show()"
      ],
      "execution_count": null,
      "outputs": []
    },
    {
      "cell_type": "markdown",
      "metadata": {
        "id": "SrV-oIZFgzsq"
      },
      "source": [
        "## Análisis bivariado\n",
        "\n",
        "El análisis bivariado es una de las formas más simples de análisis cuantitativo. Implica el análisis de dos variables, con el fin de determinar la relación empírica entre ellas. El análisis bivariado puede ser útil para probar hipótesis simples de asociación.\n",
        "\n",
        "* Tipos de análisis bivariado\n",
        "     * Categórico vs Categórico\n",
        "     * Categórico vs Numérico\n",
        "     * Numérico vs Numérico\n",
        "    \n",
        "\n"
      ]
    },
    {
      "cell_type": "markdown",
      "metadata": {
        "id": "G2R62IPr_RHE"
      },
      "source": [
        "### ¿Cúal es el impacto del género en las promociones?"
      ]
    },
    {
      "cell_type": "code",
      "metadata": {
        "id": "NcxekywBUxN5"
      },
      "source": [
        "promoted_employees = train[train['is_promoted'] == 1]\n"
      ],
      "execution_count": null,
      "outputs": []
    },
    {
      "cell_type": "code",
      "metadata": {
        "id": "n01cJvoW_aIJ"
      },
      "source": [
        "# Total de empleados por género\n",
        "train['gender'].value_counts()"
      ],
      "execution_count": null,
      "outputs": []
    },
    {
      "cell_type": "code",
      "metadata": {
        "id": "86I562fr_cpN"
      },
      "source": [
        "# Cantidad de promociones por género\n",
        "\n",
        "promoted_employees['gender'].value_counts()"
      ],
      "execution_count": null,
      "outputs": []
    },
    {
      "cell_type": "code",
      "metadata": {
        "id": "iIQpQHeM_0_p"
      },
      "source": [
        "m_prom = 3201/38496\n",
        "f_prom = 1467/16312\n",
        "print(\"Hombres promocionados: \",round(m_prom,4))\n",
        "print( \"Mujeres promocionadas: \", round(f_prom,4))"
      ],
      "execution_count": null,
      "outputs": []
    },
    {
      "cell_type": "code",
      "metadata": {
        "id": "UcRX6bN8g521"
      },
      "source": [
        "# Comparamos si el genero tiene influencia en la promoción \n",
        "\n",
        "import warnings\n",
        "warnings.filterwarnings('ignore')\n",
        "\n",
        "plt.rcParams['figure.figsize'] = (15, 3)\n",
        "x = pd.crosstab(train['gender'], train['is_promoted'])\n",
        "colors = plt.cm.Wistia(np.linspace(0, 1, 5))\n",
        "x.div(x.sum(1).astype(float), axis = 0).plot(kind = 'bar', stacked = False)\n",
        "plt.title('Efectos del género en la promoción', fontsize = 15)\n",
        "plt.xlabel(' ')\n",
        "plt.show()"
      ],
      "execution_count": null,
      "outputs": []
    },
    {
      "cell_type": "markdown",
      "metadata": {
        "id": "NjvGAfJiiEq2"
      },
      "source": [
        "Observando este grafico y teniendo en cuenta los porcentajes obtenidos podemos decir que no hay diferencia entre los promocionados según su genero."
      ]
    },
    {
      "cell_type": "markdown",
      "metadata": {
        "id": "-2zZV8pNBEtu"
      },
      "source": [
        "### Promociones en los distintos departamentos"
      ]
    },
    {
      "cell_type": "code",
      "metadata": {
        "id": "LNhgYhqrg98R"
      },
      "source": [
        "# Comparamos las promociones en los distintos departamentos\n",
        "\n",
        "plt.rcParams['figure.figsize'] = (15,4)\n",
        "x = pd.crosstab(train['department'], train['is_promoted'])\n",
        "colors = plt.cm.copper(np.linspace(0, 1, 3))\n",
        "x.div(x.sum(1).astype(float), axis = 0).plot(kind = 'area', stacked = False)\n",
        "plt.title('Promociones por departamento', fontsize = 15)\n",
        "plt.xticks(rotation = 20)\n",
        "plt.xlabel(' ')\n",
        "plt.show()"
      ],
      "execution_count": null,
      "outputs": []
    },
    {
      "cell_type": "markdown",
      "metadata": {
        "id": "sSnBeWmHiQcq"
      },
      "source": [
        "En este grafico vemos que los empleados de HR, Legal and R&D tienen menos probabilidades de ser promovidos."
      ]
    },
    {
      "cell_type": "markdown",
      "metadata": {
        "id": "P4ynZakADxxC"
      },
      "source": [
        "### ¿Cuál es el impacto de la edad en las promociones?"
      ]
    },
    {
      "cell_type": "code",
      "metadata": {
        "id": "3cfOLvNkECZb"
      },
      "source": [
        "# Rango de edad\n",
        "max_age = train['age'].max()\n",
        "min_age = train['age'].min()\n",
        "print('La edad minima es {} y la edad maxima es  {}'.format(min_age, max_age))"
      ],
      "execution_count": null,
      "outputs": []
    },
    {
      "cell_type": "code",
      "metadata": {
        "id": "e25bSOYlEhXQ"
      },
      "source": [
        "# Consideramos a todos los empleados menores a 30 como jovenes y al resto como mayores\n",
        "\n",
        "empleados_jovenes = train[train['age'] <= 30]\n",
        "empleados_mayores = train[train['age'] > 30]"
      ],
      "execution_count": null,
      "outputs": []
    },
    {
      "cell_type": "code",
      "metadata": {
        "id": "5MEbsvHBFBtp"
      },
      "source": [
        "# Cantidad de empleados jovenes promocionados\n",
        "\n",
        "empleados_jovenes['is_promoted'].value_counts()"
      ],
      "execution_count": null,
      "outputs": []
    },
    {
      "cell_type": "code",
      "metadata": {
        "id": "VieHj5HGFTgR"
      },
      "source": [
        "# Cantidad de empleados mayores promocionados\n",
        "empleados_mayores['is_promoted'].value_counts()"
      ],
      "execution_count": null,
      "outputs": []
    },
    {
      "cell_type": "code",
      "metadata": {
        "id": "BVJXmvZUFwAp"
      },
      "source": [
        "#Porcentajes\n",
        "perc_jovenes = 1550/(16568+1550)\n",
        "perc_mayores = 3118/(33572+3118)\n",
        "print(\"Porcenjate de empleados jovenes promocionados: \", round(perc_jovenes,5)*100,\"%\")\n",
        "print(\"Porcentaje de empleados mayores promocionados: \", round(perc_mayores,5)*100,\"%\")"
      ],
      "execution_count": null,
      "outputs": []
    },
    {
      "cell_type": "code",
      "metadata": {
        "id": "QBjkfPIKhA3I"
      },
      "source": [
        "# Efectos de la edad en la promoción\n",
        "\n",
        "plt.rcParams['figure.figsize'] = (15,4)\n",
        "sns.boxenplot(train['is_promoted'], train['age'], palette = 'PuRd')\n",
        "plt.title('Efectos de la edad en la promoción', fontsize = 15)\n",
        "plt.xlabel('¿Está promocionado?', fontsize = 10)\n",
        "plt.ylabel('Edad del empleado', fontsize = 10)\n",
        "plt.show()"
      ],
      "execution_count": null,
      "outputs": []
    },
    {
      "cell_type": "markdown",
      "metadata": {
        "id": "cIiHuqUxi3W3"
      },
      "source": [
        "En este grafico vemos que las personas con mayor probabilidad de ser o no promovidas estan en el mismo rango de edad. Por eso concluimos que no impacta la edad en la promoción."
      ]
    },
    {
      "cell_type": "markdown",
      "metadata": {
        "id": "RAr9v8JhKno9"
      },
      "source": [
        "### ¿Cuál es la probabilidad de que los nuevos empleados sean promocionados?\n",
        "\n",
        "Vamos a considerar empleados nuevos a los que tengan menos de dos años de antiguedad y tengan menos de 30 años"
      ]
    },
    {
      "cell_type": "code",
      "metadata": {
        "id": "rqD8_yG4K6sN"
      },
      "source": [
        "# Consideramos los empleados con 2 años de antiguedad\n",
        "\n",
        "nuevos = train[(train['length_of_service'] <= 2) & (train['age'] <= 30)]\n",
        "nuevos['is_promoted'].value_counts()"
      ],
      "execution_count": null,
      "outputs": []
    },
    {
      "cell_type": "code",
      "metadata": {
        "id": "eJCljdXlK9hI"
      },
      "source": [
        "# Porcentaje\n",
        "\n",
        "prob = 743/(8057+743)\n",
        "print(\"La probabilidad de que los nuevos sean promovidos es de  {0:.2f}%\".format(prob*100))"
      ],
      "execution_count": null,
      "outputs": []
    },
    {
      "cell_type": "markdown",
      "metadata": {
        "id": "U9ELpYa_j7rD"
      },
      "source": [
        "## Analisis multivariable\n",
        "\n",
        "El análisis multivariante se basa en los principios de la estadística multivariante, que implica la observación y el análisis de más de una variable de resultado estadística a la vez.\n",
        "\n",
        "* Para este análisis usaremos el mapa de calor de correlación para verificar la correlación entre las columnas numéricas\n"
      ]
    },
    {
      "cell_type": "code",
      "metadata": {
        "id": "GCXOLmYtkGm7"
      },
      "source": [
        "# Realizamos el mapa de calor para ver la correlación entre las variables.\n",
        "\n",
        "plt.rcParams['figure.figsize'] = (15, 8)\n",
        "sns.heatmap(train.corr(), annot = True, linewidth = 0.5, cmap = 'Wistia')\n",
        "plt.title('Mapa de Correlación', fontsize = 15)\n",
        "plt.show()"
      ],
      "execution_count": null,
      "outputs": []
    },
    {
      "cell_type": "markdown",
      "metadata": {
        "id": "diiBfoB7npai"
      },
      "source": [
        "## Mineria de datos - ingenieria de funciones\n",
        "\n",
        "La ingenieria de funciones es el proceso de utilizar el conocimiento del dominio para extraer características de datos sin procesar mediante técnicas de minería de datos. Estas funciones se pueden utilizar para mejorar el rendimiento de los algoritmos de aprendizaje automático. \n",
        "\n",
        "* Se considera el paso más importante para mejorar el rendimiento del modelo.\n",
        "* Siempre debemos entender bien las columnas para crear algunas funciones nuevas utilizando las funciones antiguas existentes.\n",
        "* Las formas en que podemos realizar la ingeniería de funciones.\n",
        "    * Podemos realizar ingeniería de características eliminando columnas innecesarias\n",
        "    * Podemos hacerlo extrayendo características de las características de fecha y hora.\n",
        "    * Podemos hacerlo extrayendo características de las categorías categóricas.\n",
        "    * Podemos hacerlo combinando las características numéricas y categóricas.\n",
        "    * Podemos hacerlo agregando múltiples características juntas usando operaciones aritméticas simples\n",
        "    \n",
        "Nosotros solo vamos a realizar ingeniería de características agregando algunas características juntas. "
      ]
    },
    {
      "cell_type": "code",
      "metadata": {
        "id": "JjuLHpbInxKR"
      },
      "source": [
        "# Mejoramos nuestro modelo agregando una nueva metrica\n",
        "\n",
        "# Creamos la suma de las metricas\n",
        "\n",
        "train['sum_metric'] = train['awards_won?']+train['KPIs_met >80%'] + train['previous_year_rating']\n",
        "test['sum_metric'] = test['awards_won?']+test['KPIs_met >80%'] + test['previous_year_rating']\n",
        "\n",
        "# Creamos la columna de puntaje total\n",
        "\n",
        "train['total_score'] = train['avg_training_score'] * train['no_of_trainings']\n",
        "test['total_score'] = test['avg_training_score'] * test['no_of_trainings']"
      ],
      "execution_count": null,
      "outputs": []
    },
    {
      "cell_type": "code",
      "metadata": {
        "id": "MSm3qg8KoICl"
      },
      "source": [
        "# Eliminamos columnas que no son utiles para predecir la promoción.\n",
        "\n",
        "# Sabemos que el canal de reclutamiento no sirve para predecir la promoción, por eso la eliminamos.\n",
        "# Vimos que la región aparenta no contribuir en la promoción, por eso la eliminamos.\n",
        "# El id del empleado no importa en la predicción.\n",
        "\n",
        "train = train.drop(['recruitment_channel', 'region', 'employee_id'], axis = 1)\n",
        "test = test.drop(['recruitment_channel', 'region', 'employee_id'], axis = 1)\n",
        "\n",
        "# Vemos las columnas uqe tiene nuestro dataset despues de aplicar la ingenieria de funciones\n",
        "train.columns"
      ],
      "execution_count": null,
      "outputs": []
    },
    {
      "cell_type": "markdown",
      "metadata": {
        "id": "Vof5POeTpDm3"
      },
      "source": [
        "## Manejo de columnas categóricas\n",
        "\n",
        "Se sabe que las variables categóricas ocultan y enmascaran mucha información interesante en un conjunto de datos.\n",
        "\n",
        "\n",
        "* Hay varias formas de codificar columnas categóricas en columnas numéricas\n",
        "* Este es un paso esencial, ya que los modelos de aprendizaje automático solo funcionan con valores numéricos.\n",
        "* Aquí, usaremos Business Logic para codificar la columna de educación.\n",
        "* Luego usaremos el codificador de etiquetas, para las columnas de departamento y género "
      ]
    },
    {
      "cell_type": "code",
      "metadata": {
        "id": "axUnyd3npGta"
      },
      "source": [
        "## Identificamos las columnas 'categorias' presentes en nuestro dataset\n",
        "train.select_dtypes('object').head()"
      ],
      "execution_count": null,
      "outputs": []
    },
    {
      "cell_type": "code",
      "metadata": {
        "id": "p3WDF1BzpJV9"
      },
      "source": [
        "# Vemos los valores que tiene la columna de educación\n",
        "train['education'].value_counts()"
      ],
      "execution_count": null,
      "outputs": []
    },
    {
      "cell_type": "code",
      "metadata": {
        "id": "4SkYKUCppLj6"
      },
      "source": [
        "# Convertimos las columnas categoricas en numericas\n",
        "\n",
        "# Codificamos la columna de educación según su importancia usando 'Business logic'\n",
        "train['education'] = train['education'].replace((\"Master's & above\", \"Bachelor's\", \"Below Secondary\"),\n",
        "                                                (3, 2, 1))\n",
        "test['education'] = test['education'].replace((\"Master's & above\", \"Bachelor's\", \"Below Secondary\"),\n",
        "                                                (3, 2, 1))\n",
        "\n",
        "# Para convertir los valores de Genero y Departamento utilizaremos el metodo de codificador de etiquetas para hacer las columnas numericas\n",
        "from sklearn.preprocessing import LabelEncoder\n",
        "\n",
        "le = LabelEncoder()\n",
        "train['department'] = le.fit_transform(train['department'])\n",
        "test['department'] = le.fit_transform(test['department'])\n",
        "train['gender'] = le.fit_transform(train['gender'])\n",
        "test['gender'] = le.fit_transform(test['gender'])\n",
        "\n",
        "# Revisamos si todavia quedan columnas categoricas en nuestro dataset despues de codificarlas\n",
        "print(train.select_dtypes('object').columns)\n",
        "print(test.select_dtypes('object').columns)"
      ],
      "execution_count": null,
      "outputs": []
    },
    {
      "cell_type": "code",
      "metadata": {
        "id": "SBYpG_WhpNdR"
      },
      "source": [
        "# Vemos como quedó nuestro dataset\n",
        "train.head(3)"
      ],
      "execution_count": null,
      "outputs": []
    },
    {
      "cell_type": "markdown",
      "metadata": {
        "id": "h1if3bn5pXGO"
      },
      "source": [
        "## División de datos\n",
        "\n",
        "Este es uno de los pasos más importantes para realizar la predicción de aprendizaje automático en un conjunto de datos,\n",
        "tenemos que separar las columnas objetivo de las independientes.\n",
        "* Almacenamos la variable objetivo en y, y luego almacenamos el resto de las columnas en x, eliminando la columna objetivo de los datos.\n",
        "* Además, estamos cambiando el nombre del conjunto de datos de prueba a x_test para facilitar la comprensión."
      ]
    },
    {
      "cell_type": "code",
      "metadata": {
        "id": "FRtZHgu7pZqR"
      },
      "source": [
        "# Separamos nuestro objetivo de nuestro dataset\n",
        "\n",
        "y = train['is_promoted']\n",
        "x = train.drop(['is_promoted'], axis = 1)\n",
        "x_test = test\n",
        "\n",
        "# Vemos la cantidad de filas y columnas de los nuevos datasets\n",
        "print(\"Filas de x :\", x.shape[0], \" Columnas de x: \", x.shape[1])\n",
        "print(\"Filas de y :\", y.shape[0], \" Columnas de y: 0\")\n",
        "print(\"Filas de x_Test :\", x_test.shape[0], \" Columnas de x_Test: \", x_test.shape[1])\n"
      ],
      "execution_count": null,
      "outputs": []
    },
    {
      "cell_type": "markdown",
      "metadata": {
        "id": "Zb3vEZ-Jpf75"
      },
      "source": [
        "## Remuestreo\n",
        "\n",
        "El remuestreo es el método que consiste en extraer muestras repetidas de las muestras de datos originales. El método de remuestreo es un método no paramétrico de inferencia estadística.\n",
        "\n",
        "* Anteriormente, notamos que la columna de destino está muy desequilibrada, necesitamos equilibrar los datos mediante el uso de algunos métodos estadísticos.\n",
        "* Hay muchos métodos estadísticos que podemos usar para volver a muestrear los datos, como:\n",
        "     * Over Samping\n",
        "     * Muestreo basado en clústeres\n",
        "     * Bajo muestreo.\n",
        "    \n",
        "El sobremuestreo y el submuestreo en el análisis de datos son técnicas que se utilizan para ajustar la distribución de clases de un conjunto de datos. Estos términos se utilizan tanto en muestreo estadístico, metodología de diseño de encuestas como en aprendizaje automático. El sobremuestreo y el submuestreo son técnicas opuestas y aproximadamente equivalentes\n",
        "    \n",
        "* Vamos a utilizar Over Sampling.\n",
        "* No usaremos Submuestreo para evitar la pérdida de datos."
      ]
    },
    {
      "cell_type": "code",
      "metadata": {
        "id": "lUQ-YpO6pjwz"
      },
      "source": [
        "from imblearn.over_sampling import SMOTE\n",
        "\n",
        "x_resample, y_resample  = SMOTE().fit_sample(x, y.values.ravel())\n",
        "\n",
        "# Mostramos la cantidad de filas y columnas despues de aplicar el resampling\n",
        "print(\"Filas de x_resample :\", x_resample.shape[0], \" Columnas de x_resample: \", x_resample.shape[1])\n",
        "print(\"Filas de y_resample :\", y_resample.shape[0], \" Columnas de y_resample: 0\")\n"
      ],
      "execution_count": null,
      "outputs": []
    },
    {
      "cell_type": "code",
      "metadata": {
        "id": "J0UcBdQCpl6Y"
      },
      "source": [
        "# Vemos la cantidad de valores de nuestra variable objetivo\n",
        "\n",
        "print(\"Antes Resampling :\")\n",
        "print(y.value_counts())\n",
        "print(\"---------------------------\")\n",
        "print(\"Despues Resampling :\")\n",
        "y_resample = pd.DataFrame(y_resample)\n",
        "print(y_resample[0].value_counts())"
      ],
      "execution_count": null,
      "outputs": []
    },
    {
      "cell_type": "code",
      "metadata": {
        "id": "QYBhPmWopp2l"
      },
      "source": [
        "# creemos un conjunto de validación a partir de los datos de entrenamiento para que podamos verificar si el modelo que hemos creado es lo suficientemente bueno\n",
        "# vamos a importar la biblioteca train_test_split de sklearn para hacer eso \n",
        "\n",
        "from sklearn.model_selection import train_test_split\n",
        "\n",
        "x_train, x_valid, y_train, y_valid = train_test_split(x_resample, y_resample, test_size = 0.2, random_state = 0)\n",
        "\n",
        "# Mostramos las filas y columnas de cada variable\n",
        "print(\"Filas y columnas de x Train :\", x_train.shape)\n",
        "print(\"Filas y columnas de y Train :\", y_train.shape)\n",
        "print(\"Filas y columnas de x Valid :\", x_valid.shape)\n",
        "print(\"Filas y columnas de y Valid :\", y_valid.shape)\n",
        "print(\"Filas y columnas de x Test :\", x_test.shape)"
      ],
      "execution_count": null,
      "outputs": []
    },
    {
      "cell_type": "markdown",
      "metadata": {
        "id": "EfIaHX3bpzMU"
      },
      "source": [
        "## Escala de funciones - Normalización\n",
        "\n",
        "La escala de funciones es un método que se utiliza para normalizar el rango de variables independientes o características de los datos. En el procesamiento de datos, también se conoce como normalización de datos y generalmente se realiza durante el paso de preprocesamiento de datos."
      ]
    },
    {
      "cell_type": "code",
      "metadata": {
        "id": "bJ8gDn56p1gg"
      },
      "source": [
        "# Es muy importante escalar todas las características del conjunto de datos en la misma escala\n",
        "# Aquí vamos a utilizar el método de estandarización, que se usa con mucha frecuencia.\n",
        "\n",
        "# vamos a importar la biblioteca standard scaler de sklearn para hacer eso \n",
        "#Para el modelo de 'Decision Trees Classifier' no necesitamos hacer este paso\n",
        "\n",
        "from sklearn.preprocessing import StandardScaler\n",
        "\n",
        "sc = StandardScaler()\n",
        "x_train = sc.fit_transform(x_train)\n",
        "x_valid = sc.transform(x_valid)\n",
        "x_test = sc.transform(x_test)"
      ],
      "execution_count": null,
      "outputs": []
    },
    {
      "cell_type": "markdown",
      "metadata": {
        "id": "uucbZ1Twp504"
      },
      "source": [
        "## Modelado predictivo de aprendizaje automático\n",
        "\n",
        "El modelado predictivo es un proceso que utiliza datos y estadísticas para predecir resultados con modelos de datos. Estos modelos se pueden utilizar para predecir cualquier cosa, desde resultados deportivos y clasificaciones televisivas hasta avances tecnológicos y ganancias corporativas. El modelado predictivo también se conoce como: Análisis predictivo."
      ]
    },
    {
      "cell_type": "markdown",
      "metadata": {
        "id": "5ONLrLOCqFu_"
      },
      "source": [
        "### Decision Trees Classifier\n",
        "\n",
        "Un árbol de decisiones es una herramienta de apoyo a las decisiones que utiliza un modelo de decisiones en forma de árbol y sus posibles consecuencias, incluidos los resultados de eventos fortuitos, los costos de los recursos y la utilidad. Es una forma de mostrar un algoritmo que solo contiene declaraciones de control condicionales."
      ]
    },
    {
      "cell_type": "code",
      "metadata": {
        "id": "Vg57XcEEqH8E"
      },
      "source": [
        "# Usamos Decision Trees para clasificar los datos\n",
        "from sklearn.tree import DecisionTreeClassifier\n",
        "\n",
        "model = DecisionTreeClassifier()\n",
        "model.fit(x_train, y_train)\n",
        "\n",
        "y_pred = model.predict(x_valid)"
      ],
      "execution_count": null,
      "outputs": []
    },
    {
      "cell_type": "code",
      "metadata": {
        "id": "31SRmvHdqKUR"
      },
      "source": [
        "from sklearn.metrics import confusion_matrix, classification_report\n",
        "\n",
        "Accuracy_train = model.score(x_train, y_train)\n",
        "Accuracy_test = model.score(x_valid, y_valid)\n",
        "\n",
        "print(\"Precisión del entrenamiento  :\", Accuracy_train)\n",
        "print(\"Precisión de prueba  :\", Accuracy_test)\n",
        "\n",
        "cm = confusion_matrix(y_valid, y_pred)\n",
        "plt.rcParams['figure.figsize'] = (3, 3)\n",
        "sns.heatmap(cm, annot = True, cmap = 'magma', fmt = '.8g')\n",
        "plt.xlabel('Valores predecidos')\n",
        "plt.ylabel('Valores actuales')\n",
        "plt.show()"
      ],
      "execution_count": null,
      "outputs": []
    },
    {
      "cell_type": "code",
      "metadata": {
        "id": "18xiaC6VqSP3"
      },
      "source": [
        "# Genereamos el reporte de clasificación\n",
        "\n",
        "cr = classification_report(y_valid, y_pred)\n",
        "print(cr)"
      ],
      "execution_count": null,
      "outputs": []
    },
    {
      "cell_type": "markdown",
      "metadata": {
        "id": "_7XJz6iIM_Y2"
      },
      "source": [
        "####Visualización del arbol"
      ]
    },
    {
      "cell_type": "code",
      "metadata": {
        "id": "vxg5YNIhNC20"
      },
      "source": [
        "from sklearn import tree\n",
        "fig = plt.figure(figsize=(25,20))\n",
        "_= tree.plot_tree(model,\n",
        "                  max_depth=5,\n",
        "                  feature_names=train.columns[:-1],\n",
        "                  class_names=['0','1'],\n",
        "                  filled=True)"
      ],
      "execution_count": null,
      "outputs": []
    },
    {
      "cell_type": "markdown",
      "metadata": {
        "id": "92miGDlngABn"
      },
      "source": [
        "### Logistic Regression\n",
        "La regresión logística es el análisis de regresión adecuado para realizar cuando la variable dependiente es dicotómica (binaria). Como todos los análisis de regresión, la regresión logística es un análisis predictivo. La regresión logística se utiliza para describir datos y explicar la relación entre una variable binaria dependiente y una o más variables independientes nominales, ordinales, de intervalo o de nivel de relación."
      ]
    },
    {
      "cell_type": "code",
      "metadata": {
        "id": "_CwMbaYOgKbA"
      },
      "source": [
        "# Aplicamos Logistic Regression\n",
        "\n",
        "from sklearn.linear_model import LogisticRegression\n",
        "\n",
        "model1 = LogisticRegression(random_state = 0)\n",
        "model1.fit(x_train, y_train)\n",
        "\n",
        "y_pred1 = model1.predict(x_valid)\n",
        "\n",
        "Accuracy_train1 = model1.score(x_train, y_train)\n",
        "Accuracy_test1 = model1.score(x_valid, y_valid)\n",
        "\n",
        "print(\"Precisión del entrenamiento  :\", Accuracy_train1)\n",
        "print(\"Precisión de prueba  :\", Accuracy_test1)"
      ],
      "execution_count": null,
      "outputs": []
    },
    {
      "cell_type": "code",
      "metadata": {
        "id": "UTnrqb6vgLrW"
      },
      "source": [
        "# Analizamos el rendimiento usando Confusion matrix\n",
        "\n",
        "from sklearn.metrics import confusion_matrix, classification_report\n",
        "\n",
        "cm1 = confusion_matrix(y_valid, y_pred1)\n",
        "plt.rcParams['figure.figsize'] = (3, 3)\n",
        "sns.heatmap(cm1, annot = True, cmap = 'viridis', fmt = '.8g')\n",
        "plt.show()\n",
        "\n",
        "# Generamos el reporte de clasificación\n",
        "cr1 = classification_report(y_valid, y_pred1)\n",
        "print(cr1)\n"
      ],
      "execution_count": null,
      "outputs": []
    },
    {
      "cell_type": "markdown",
      "metadata": {
        "id": "4BDfjbdw6IOC"
      },
      "source": [
        "### Gradient Boosting\n",
        "Un modelo Gradient Boosting está formado por un conjunto de árboles de decisión individuales, entrenados de forma secuencial, de forma que cada nuevo árbol trata de mejorar los errores de los árboles anteriores. La predicción de una nueva observación se obtiene agregando las predicciones de todos los árboles individuales que forman el modelo."
      ]
    },
    {
      "cell_type": "code",
      "metadata": {
        "id": "oij3Uf6LgPSm"
      },
      "source": [
        "# Aplicamos Gradient Boosting\n",
        "\n",
        "from sklearn.ensemble import GradientBoostingClassifier\n",
        "\n",
        "model2 =  GradientBoostingClassifier()\n",
        "model2.fit(x_train, y_train)\n",
        "\n",
        "y_pred2 = model2.predict(x_valid)\n",
        "\n",
        "Accuracy_train2 = model2.score(x_train, y_train)\n",
        "Accuracy_test2 = model2.score(x_valid, y_valid)\n",
        "\n",
        "print(\"Precisión del entrenamiento  :\", Accuracy_train2)\n",
        "print(\"Precisión de prueba  :\", Accuracy_test2)\n"
      ],
      "execution_count": null,
      "outputs": []
    },
    {
      "cell_type": "code",
      "metadata": {
        "id": "pxDbRDClo-Nc"
      },
      "source": [
        "# Analizamos el rendimiento usando Confusion matrix\n",
        "\n",
        "cm2 = confusion_matrix(y_valid, y_pred2)\n",
        "plt.rcParams['figure.figsize'] = (3, 3)\n",
        "sns.heatmap(cm2, annot = True, cmap = 'Wistia', fmt = '.8g')\n",
        "plt.show()\n",
        "\n",
        "# Generamos el reporte de clasificación\n",
        "cr2 = classification_report(y_valid, y_pred2)\n",
        "print(cr2)"
      ],
      "execution_count": null,
      "outputs": []
    },
    {
      "cell_type": "code",
      "metadata": {
        "id": "h5aNX-fwqYOL"
      },
      "source": [
        "# Comprobamos el cross value score\n",
        "from sklearn.model_selection import cross_val_score\n",
        "\n",
        "clf = GradientBoostingClassifier(random_state = 0)\n",
        "scores = cross_val_score(clf, x_train, y_train, cv=5)\n",
        "print(scores)"
      ],
      "execution_count": null,
      "outputs": []
    },
    {
      "cell_type": "markdown",
      "metadata": {
        "id": "Z6HRwD7akvl-"
      },
      "source": [
        "### Comparamos los modelos"
      ]
    },
    {
      "cell_type": "code",
      "metadata": {
        "id": "vkycxQW5lwST"
      },
      "source": [
        "#Graficamos la matriz de confusión para los tres modelos\n",
        "plt.rcParams['figure.figsize'] = (16,5)\n",
        "plt.style.use('fivethirtyeight')\n",
        "\n",
        "\n",
        "# Modelo \n",
        "plt.subplot(1, 3, 1)\n",
        "cm = confusion_matrix(y_valid, y_pred)\n",
        "plt.rcParams['figure.figsize'] = (3, 3)\n",
        "sns.heatmap(cm, annot = True, cmap = 'magma', fmt = '.8g')\n",
        "plt.xlabel('Valores predecidos')\n",
        "plt.ylabel('Valores actuales')\n",
        "plt.title('Decision Tree Classifier', fontsize = 20)\n",
        "\n",
        "# Modelo 1\n",
        "plt.subplot(1, 3, 2)\n",
        "cm1 = confusion_matrix(y_valid, y_pred1)\n",
        "plt.rcParams['figure.figsize'] = (3, 3)\n",
        "sns.heatmap(cm1, annot = True, cmap = 'viridis', fmt = '.8g')\n",
        "plt.title('Logistic Regression', fontsize = 20)\n",
        "\n",
        "# Modelo 2\n",
        "plt.subplot(1, 3, 3)\n",
        "cm2 = confusion_matrix(y_valid, y_pred2)\n",
        "plt.rcParams['figure.figsize'] = (3, 3)\n",
        "sns.heatmap(cm2, annot = True, cmap = 'Wistia', fmt = '.8g')\n",
        "\n",
        "plt.title(' Gradient Boosting', fontsize = 20)\n",
        "\n",
        "\n",
        "plt.legend('')\n",
        "plt.show()\n",
        "\n",
        "# Generamos el reporte de clasificación\n",
        "print('')\n",
        "print('Decision Tree Classifier')\n",
        "print(cr)\n",
        "print('--------------------------------------------------------------')\n",
        "print('Logistic Regression')\n",
        "print(cr1)\n",
        "print('--------------------------------------------------------------')\n",
        "print('Gradient Boosting')\n",
        "print(cr2)"
      ],
      "execution_count": null,
      "outputs": []
    }
  ]
}